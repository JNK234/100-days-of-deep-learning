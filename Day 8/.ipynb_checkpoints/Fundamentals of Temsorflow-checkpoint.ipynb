{
 "cells": [
  {
   "cell_type": "markdown",
   "id": "a555422c-89a7-4f86-95ee-d49e89e59bfb",
   "metadata": {},
   "source": [
    "# Tensorflow for Beginers - Fundamentals of Tensorflow"
   ]
  },
  {
   "cell_type": "markdown",
   "id": "bc4b298c-aa32-4ad8-8cd5-927fe87b4386",
   "metadata": {},
   "source": [
    "**Tensorflow** is an open-source end-to-end machine learning library for processing data, modeling data and serving models. We are using tensorflow because it provides a way to create deep learning and machine learning model easily without having to create functions from scratch. \n",
    "\n",
    "The main premise of tensorflow is to convert different types of data representations like images, text etc into tenors and then patterns in the data using machine learning models."
   ]
  },
  {
   "cell_type": "markdown",
   "id": "e0dcf99f-2aea-4733-b7fa-ea60762a992c",
   "metadata": {},
   "source": [
    "In this notebook, we will focus on the following:\n",
    "    \n",
    "    1. Introduction to tensors\n",
    "    2. Exploring tensors\n",
    "    3. Manipulating tensors\n",
    "    4. Tensors and Numpy\n",
    "    "
   ]
  },
  {
   "cell_type": "markdown",
   "id": "d3093f4b-caa3-406a-b41e-6ef676ea9b46",
   "metadata": {},
   "source": [
    "## Introduction to Tensors"
   ]
  },
  {
   "cell_type": "markdown",
   "id": "7e324358-48c5-472f-a91a-0716b1d55e9f",
   "metadata": {},
   "source": [
    "We can start by considering that tensors as a multi-dimensional numerical representation ( or n-dimensional ) of data. The data can be anyhting like:\n",
    "\n",
    "   * Numbers itself i.e. array of numbers\n",
    "   * Images i.e. multi-dimensional representation of each pixel of images\n",
    "   * Text i.e. representing different words/characters in text as tensors\n",
    "   * OR any form of data which can be represented as number"
   ]
  },
  {
   "cell_type": "markdown",
   "id": "8d0fbc7d-ea86-4dbd-8ff7-c7514ba0c30a",
   "metadata": {},
   "source": [
    "We can also see that tensors are similar to numpy arrays. But the only difference between the both is that tensors can be used on Graphic Processing Units (GPUs) and Tensor Processing Units (TPUs) to make the numerical computation faster compared ti arrays which run only on CPUs"
   ]
  },
  {
   "cell_type": "markdown",
   "id": "97153e72-5010-4d80-9a2e-bb2e022ba252",
   "metadata": {},
   "source": [
    "Now let's get started and dive into coding... <br />\n",
    "First we need to import tensorflow and check if we are having the right version."
   ]
  },
  {
   "cell_type": "code",
   "execution_count": 3,
   "id": "c3847428-b477-4fa1-a88c-cde6337c3755",
   "metadata": {},
   "outputs": [
    {
     "name": "stdout",
     "output_type": "stream",
     "text": [
      "2.7.0\n"
     ]
    }
   ],
   "source": [
    "import tensorflow as tf\n",
    "print(tf.__version__)"
   ]
  },
  {
   "cell_type": "markdown",
   "id": "d602d02b-ecb8-4974-9f9a-1bd43c6754b9",
   "metadata": {},
   "source": [
    "We are having the latest version of tensorflow currently i.e. 2.7.  If tensorflow is not installed, you install it by using the following command:\n",
    "                                                    `!pip install tensorflow`"
   ]
  },
  {
   "cell_type": "markdown",
   "id": "68faf385-6d68-4a7c-897a-ea0aab5740c5",
   "metadata": {},
   "source": [
    "### Creating Tensors"
   ]
  },
  {
   "cell_type": "markdown",
   "id": "e6936ab8-8ebb-402c-9e15-390c71a00f55",
   "metadata": {},
   "source": [
    "Let's create a scalar or rank-0 tensor. Let's use `tf.constant()` method."
   ]
  },
  {
   "cell_type": "code",
   "execution_count": 4,
   "id": "7808375e-89d8-4767-bbc4-919fff454598",
   "metadata": {},
   "outputs": [
    {
     "data": {
      "text/plain": [
       "<tf.Tensor: shape=(), dtype=int32, numpy=7>"
      ]
     },
     "execution_count": 4,
     "metadata": {},
     "output_type": "execute_result"
    }
   ],
   "source": [
    "# Create a scalar\n",
    "scalar = tf.constant(7)\n",
    "scalar"
   ]
  },
  {
   "cell_type": "markdown",
   "id": "1901f8f0-63dc-4fc7-8309-ce3c1fca14a9",
   "metadata": {},
   "source": [
    "Scalars is known as rank-0 tensor because they don't have any dimension. We can check that using `.ndim` method."
   ]
  },
  {
   "cell_type": "code",
   "execution_count": 5,
   "id": "a0030938-8b0c-4f92-a0b9-ee9062c799f7",
   "metadata": {},
   "outputs": [
    {
     "data": {
      "text/plain": [
       "0"
      ]
     },
     "execution_count": 5,
     "metadata": {},
     "output_type": "execute_result"
    }
   ],
   "source": [
    "# Check the dimension\n",
    "scalar.ndim"
   ]
  },
  {
   "cell_type": "code",
   "execution_count": 6,
   "id": "dcbf4446-fd7c-4ee3-b48f-9fd32291ea1f",
   "metadata": {},
   "outputs": [
    {
     "data": {
      "text/plain": [
       "<tf.Tensor: shape=(2,), dtype=int32, numpy=array([10, 10], dtype=int32)>"
      ]
     },
     "execution_count": 6,
     "metadata": {},
     "output_type": "execute_result"
    }
   ],
   "source": [
    "# Create a vector \n",
    "vec = tf.constant([10, 10])\n",
    "vec"
   ]
  },
  {
   "cell_type": "code",
   "execution_count": 7,
   "id": "8c4acd3a-ba81-4aaf-aa13-0ad1d5698743",
   "metadata": {},
   "outputs": [
    {
     "data": {
      "text/plain": [
       "1"
      ]
     },
     "execution_count": 7,
     "metadata": {},
     "output_type": "execute_result"
    }
   ],
   "source": [
    "# Check the dimension of vector\n",
    "vec.ndim"
   ]
  },
  {
   "cell_type": "code",
   "execution_count": 8,
   "id": "31c093cb-0b1d-4e17-8300-e58be9c49f35",
   "metadata": {},
   "outputs": [
    {
     "data": {
      "text/plain": [
       "<tf.Tensor: shape=(2, 2), dtype=int32, numpy=\n",
       "array([[10,  1],\n",
       "       [ 1, 10]], dtype=int32)>"
      ]
     },
     "execution_count": 8,
     "metadata": {},
     "output_type": "execute_result"
    }
   ],
   "source": [
    "# Create a matrix\n",
    "mat = tf.constant([[10, 1],\n",
    "                   [1, 10]])\n",
    "mat"
   ]
  },
  {
   "cell_type": "code",
   "execution_count": 9,
   "id": "95037300-5c6a-4fea-a10d-d9ba62878f19",
   "metadata": {},
   "outputs": [
    {
     "data": {
      "text/plain": [
       "2"
      ]
     },
     "execution_count": 9,
     "metadata": {},
     "output_type": "execute_result"
    }
   ],
   "source": [
    "# Check the dimension\n",
    "mat.ndim"
   ]
  },
  {
   "cell_type": "markdown",
   "id": "1ade5186-4104-495b-a509-c27993e48ff7",
   "metadata": {},
   "source": [
    "By default, tensorflow create 32-bit precesion tensors i.e. with type `int32` or `float32` . We can also change the data type as follows,"
   ]
  },
  {
   "cell_type": "code",
   "execution_count": 10,
   "id": "523eb979-fb1f-4d1f-9c52-11f280d49bb1",
   "metadata": {},
   "outputs": [
    {
     "data": {
      "text/plain": [
       "<tf.Tensor: shape=(4, 2), dtype=float16, numpy=\n",
       "array([[10.,  3.],\n",
       "       [ 3., 10.],\n",
       "       [10.,  4.],\n",
       "       [ 4., 10.]], dtype=float16)>"
      ]
     },
     "execution_count": 10,
     "metadata": {},
     "output_type": "execute_result"
    }
   ],
   "source": [
    "mat1 = tf.constant([[10, 3],\n",
    "                     [3, 10],\n",
    "                     [10, 4],\n",
    "                     [4, 10]], dtype=tf.float16)\n",
    "\n",
    "mat1"
   ]
  },
  {
   "cell_type": "code",
   "execution_count": 11,
   "id": "da7f225b-cd65-41dd-aab3-224321eff695",
   "metadata": {},
   "outputs": [
    {
     "data": {
      "text/plain": [
       "2"
      ]
     },
     "execution_count": 11,
     "metadata": {},
     "output_type": "execute_result"
    }
   ],
   "source": [
    "# Check the dimension\n",
    "mat1.ndim"
   ]
  },
  {
   "cell_type": "markdown",
   "id": "804e7d6c-42cb-4254-a66b-99fabc040c19",
   "metadata": {},
   "source": [
    "Now let's create tensors using `tf.variable()` method"
   ]
  },
  {
   "cell_type": "markdown",
   "id": "e339e985-843a-44f5-b1d3-d36896819810",
   "metadata": {},
   "source": [
    "The main difference between `tf.constant` and `tf.variable` is that tensors created using `constant` method are immutable/cannoth be updated. But tensors created using `tf.variable` are mutable."
   ]
  },
  {
   "cell_type": "code",
   "execution_count": 12,
   "id": "7b31fec2-680f-4109-b7e4-1332c98013db",
   "metadata": {},
   "outputs": [],
   "source": [
    "# Create a variable\n",
    "changable_tensor = tf.Variable([10, 7])\n",
    "\n",
    "# Create a constant\n",
    "unchangable_tensor = tf.constant([10, 7])"
   ]
  },
  {
   "cell_type": "code",
   "execution_count": 13,
   "id": "17d6eebb-a027-4333-90d4-1e7b9ec33c9c",
   "metadata": {},
   "outputs": [
    {
     "data": {
      "text/plain": [
       "(<tf.Variable 'Variable:0' shape=(2,) dtype=int32, numpy=array([10,  7], dtype=int32)>,\n",
       " <tf.Tensor: shape=(2,), dtype=int32, numpy=array([10,  7], dtype=int32)>)"
      ]
     },
     "execution_count": 13,
     "metadata": {},
     "output_type": "execute_result"
    }
   ],
   "source": [
    "changable_tensor, unchangable_tensor"
   ]
  },
  {
   "cell_type": "markdown",
   "id": "7d111a32-965e-4d7f-8417-4eb03af882c2",
   "metadata": {},
   "source": [
    "We can update the value of tensors using `.assign()` method"
   ]
  },
  {
   "cell_type": "code",
   "execution_count": 14,
   "id": "e99d6f15-7102-42ed-9264-2f3b6f6584d2",
   "metadata": {},
   "outputs": [
    {
     "data": {
      "text/plain": [
       "<tf.Variable 'Variable:0' shape=(2,) dtype=int32, numpy=array([7, 7], dtype=int32)>"
      ]
     },
     "execution_count": 14,
     "metadata": {},
     "output_type": "execute_result"
    }
   ],
   "source": [
    "changable_tensor[0].assign(7)\n",
    "changable_tensor"
   ]
  },
  {
   "cell_type": "markdown",
   "id": "3444cc7f-de7a-4bdc-a6e2-64e3512b9cb9",
   "metadata": {},
   "source": [
    "But if we try to change the value of constant, we end up with error"
   ]
  },
  {
   "cell_type": "code",
   "execution_count": 15,
   "id": "09b26e11-3bd6-4eeb-ae39-541c131d40d5",
   "metadata": {},
   "outputs": [
    {
     "ename": "AttributeError",
     "evalue": "'tensorflow.python.framework.ops.EagerTensor' object has no attribute 'assign'",
     "output_type": "error",
     "traceback": [
      "\u001b[0;31m---------------------------------------------------------------------------\u001b[0m",
      "\u001b[0;31mAttributeError\u001b[0m                            Traceback (most recent call last)",
      "\u001b[0;32m/tmp/ipykernel_45/2481057966.py\u001b[0m in \u001b[0;36m<module>\u001b[0;34m\u001b[0m\n\u001b[0;32m----> 1\u001b[0;31m \u001b[0munchangable_tensor\u001b[0m\u001b[0;34m[\u001b[0m\u001b[0;36m0\u001b[0m\u001b[0;34m]\u001b[0m\u001b[0;34m.\u001b[0m\u001b[0massign\u001b[0m\u001b[0;34m(\u001b[0m\u001b[0;36m7\u001b[0m\u001b[0;34m)\u001b[0m\u001b[0;34m\u001b[0m\u001b[0;34m\u001b[0m\u001b[0m\n\u001b[0m",
      "\u001b[0;32m~/.conda/envs/default/lib/python3.9/site-packages/tensorflow/python/framework/ops.py\u001b[0m in \u001b[0;36m__getattr__\u001b[0;34m(self, name)\u001b[0m\n\u001b[1;32m    440\u001b[0m         \u001b[0;32mfrom\u001b[0m \u001b[0mtensorflow\u001b[0m\u001b[0;34m.\u001b[0m\u001b[0mpython\u001b[0m\u001b[0;34m.\u001b[0m\u001b[0mops\u001b[0m\u001b[0;34m.\u001b[0m\u001b[0mnumpy_ops\u001b[0m \u001b[0;32mimport\u001b[0m \u001b[0mnp_config\u001b[0m\u001b[0;34m\u001b[0m\u001b[0;34m\u001b[0m\u001b[0m\n\u001b[1;32m    441\u001b[0m         np_config.enable_numpy_behavior()\"\"\".format(type(self).__name__, name))\n\u001b[0;32m--> 442\u001b[0;31m     \u001b[0mself\u001b[0m\u001b[0;34m.\u001b[0m\u001b[0m__getattribute__\u001b[0m\u001b[0;34m(\u001b[0m\u001b[0mname\u001b[0m\u001b[0;34m)\u001b[0m\u001b[0;34m\u001b[0m\u001b[0;34m\u001b[0m\u001b[0m\n\u001b[0m\u001b[1;32m    443\u001b[0m \u001b[0;34m\u001b[0m\u001b[0m\n\u001b[1;32m    444\u001b[0m   \u001b[0;34m@\u001b[0m\u001b[0mstaticmethod\u001b[0m\u001b[0;34m\u001b[0m\u001b[0;34m\u001b[0m\u001b[0m\n",
      "\u001b[0;31mAttributeError\u001b[0m: 'tensorflow.python.framework.ops.EagerTensor' object has no attribute 'assign'"
     ]
    }
   ],
   "source": [
    "unchangable_tensor[0].assign(7)"
   ]
  },
  {
   "cell_type": "code",
   "execution_count": 16,
   "id": "bb7eaeae-05a2-4cc1-8baa-a6b9aa40124d",
   "metadata": {},
   "outputs": [
    {
     "data": {
      "text/plain": [
       "<tf.Variable 'Variable:0' shape=(2,) dtype=int32, numpy=array([5, 3], dtype=int32)>"
      ]
     },
     "execution_count": 16,
     "metadata": {},
     "output_type": "execute_result"
    }
   ],
   "source": [
    "changable_tensor.assign([5,3])\n",
    "changable_tensor"
   ]
  },
  {
   "cell_type": "markdown",
   "id": "b5867527-6fab-44d7-80c2-fac167b72e14",
   "metadata": {},
   "source": [
    "### Creating Random Tensors"
   ]
  },
  {
   "cell_type": "markdown",
   "id": "8a3445d4-605c-4fed-9162-f22fbc74c950",
   "metadata": {},
   "source": [
    "Now let's create a random tensor of arbitrary size and values. Random tensors are created by tensorflow, while initialising the weights of neural network.  "
   ]
  },
  {
   "cell_type": "markdown",
   "id": "bf13f290-b627-4a28-b4cd-b6b182fbb91b",
   "metadata": {},
   "source": [
    "We can create random tensors using `tf.random.Generator` class"
   ]
  },
  {
   "cell_type": "code",
   "execution_count": 17,
   "id": "8c65d489-4be4-478b-9ffb-5905c9a16c92",
   "metadata": {},
   "outputs": [],
   "source": [
    "# Create r1 tensor\n",
    "r1 = tf.random.Generator.from_seed(42) # set the seed for reproduceblitiy\n",
    "r1 = r1.normal(shape=[3,7]) # Create the tensor from normal distribution\n",
    "\n",
    "# Create r2 tensor\n",
    "r2 = tf.random.Generator.from_seed(42) \n",
    "r2 = r2.normal(shape=[3,7])"
   ]
  },
  {
   "cell_type": "code",
   "execution_count": 18,
   "id": "55f242fd-c32f-4885-984f-bde46b514d41",
   "metadata": {},
   "outputs": [
    {
     "data": {
      "text/plain": [
       "(<tf.Tensor: shape=(3, 7), dtype=float32, numpy=\n",
       " array([[-0.7565803 , -0.06854702,  0.07595026, -1.2573844 , -0.23193763,\n",
       "         -1.8107855 ,  0.09988727],\n",
       "        [-0.50998646, -0.7535805 , -0.57166284,  0.1480774 , -0.23362993,\n",
       "         -0.3522796 ,  0.40621263],\n",
       "        [-1.0523509 ,  1.2054597 ,  1.6874489 , -0.4462975 , -2.3410842 ,\n",
       "          0.99009085, -0.0876323 ]], dtype=float32)>,\n",
       " <tf.Tensor: shape=(3, 7), dtype=float32, numpy=\n",
       " array([[-0.7565803 , -0.06854702,  0.07595026, -1.2573844 , -0.23193763,\n",
       "         -1.8107855 ,  0.09988727],\n",
       "        [-0.50998646, -0.7535805 , -0.57166284,  0.1480774 , -0.23362993,\n",
       "         -0.3522796 ,  0.40621263],\n",
       "        [-1.0523509 ,  1.2054597 ,  1.6874489 , -0.4462975 , -2.3410842 ,\n",
       "          0.99009085, -0.0876323 ]], dtype=float32)>)"
      ]
     },
     "execution_count": 18,
     "metadata": {},
     "output_type": "execute_result"
    }
   ],
   "source": [
    "r1, r2"
   ]
  },
  {
   "cell_type": "code",
   "execution_count": 19,
   "id": "386393cb-690c-4f03-bb25-bcda34680c93",
   "metadata": {},
   "outputs": [
    {
     "data": {
      "text/plain": [
       "<tf.Tensor: shape=(3, 7), dtype=bool, numpy=\n",
       "array([[ True,  True,  True,  True,  True,  True,  True],\n",
       "       [ True,  True,  True,  True,  True,  True,  True],\n",
       "       [ True,  True,  True,  True,  True,  True,  True]])>"
      ]
     },
     "execution_count": 19,
     "metadata": {},
     "output_type": "execute_result"
    }
   ],
   "source": [
    "r1 == r2"
   ]
  },
  {
   "cell_type": "markdown",
   "id": "06d0633d-849a-4762-87b9-80e18c3efc3a",
   "metadata": {},
   "source": [
    "We can observe that both the tensors are same even though we have created using the `random.Generator` class. So these random numbers are not exactly random but pseudorandom numbers i.e. they appear random but they aren't. The randomness of the Generator is determined by the `seed` we set initially.  "
   ]
  },
  {
   "cell_type": "markdown",
   "id": "4a04ba2a-2daa-4e10-8e0a-263b28d9f981",
   "metadata": {},
   "source": [
    "Now let's create two random tensors with different seeds"
   ]
  },
  {
   "cell_type": "code",
   "execution_count": 20,
   "id": "bbc0fece-014f-4f9e-9731-0c8dce6e30ab",
   "metadata": {},
   "outputs": [],
   "source": [
    "# Create r1 tensor\n",
    "r1 = tf.random.Generator.from_seed(42) # set the seed for reproduceblitiy\n",
    "r1 = r1.normal(shape=[3,7]) # Create the tensor from normal distribution\n",
    "\n",
    "# Create r2 tensor\n",
    "r2 = tf.random.Generator.from_seed(21) \n",
    "r2 = r2.normal(shape=[3,7])"
   ]
  },
  {
   "cell_type": "code",
   "execution_count": 21,
   "id": "becc4abe-686d-4806-9064-cd7b6d68b04a",
   "metadata": {},
   "outputs": [
    {
     "data": {
      "text/plain": [
       "(<tf.Tensor: shape=(3, 7), dtype=float32, numpy=\n",
       " array([[-0.7565803 , -0.06854702,  0.07595026, -1.2573844 , -0.23193763,\n",
       "         -1.8107855 ,  0.09988727],\n",
       "        [-0.50998646, -0.7535805 , -0.57166284,  0.1480774 , -0.23362993,\n",
       "         -0.3522796 ,  0.40621263],\n",
       "        [-1.0523509 ,  1.2054597 ,  1.6874489 , -0.4462975 , -2.3410842 ,\n",
       "          0.99009085, -0.0876323 ]], dtype=float32)>,\n",
       " <tf.Tensor: shape=(3, 7), dtype=float32, numpy=\n",
       " array([[-1.322665  , -0.02279496, -0.1383193 ,  0.44207528, -0.7531523 ,\n",
       "          2.0261486 , -0.06997604],\n",
       "        [ 0.85445154,  0.1175475 ,  0.03493892, -1.5700307 ,  0.4457582 ,\n",
       "          0.10944034, -0.8035768 ],\n",
       "        [-1.7166729 ,  0.3738578 , -0.14371012, -0.34646833,  1.1456194 ,\n",
       "         -0.416     ,  0.43369916]], dtype=float32)>)"
      ]
     },
     "execution_count": 21,
     "metadata": {},
     "output_type": "execute_result"
    }
   ],
   "source": [
    "r1, r2"
   ]
  },
  {
   "cell_type": "code",
   "execution_count": 22,
   "id": "daf527e5-8f76-40de-afef-80cac6c8db59",
   "metadata": {},
   "outputs": [
    {
     "data": {
      "text/plain": [
       "<tf.Tensor: shape=(3, 7), dtype=bool, numpy=\n",
       "array([[False, False, False, False, False, False, False],\n",
       "       [False, False, False, False, False, False, False],\n",
       "       [False, False, False, False, False, False, False]])>"
      ]
     },
     "execution_count": 22,
     "metadata": {},
     "output_type": "execute_result"
    }
   ],
   "source": [
    "r1 == r2"
   ]
  },
  {
   "cell_type": "markdown",
   "id": "4651f093-fd56-4f01-9003-32757be81bf8",
   "metadata": {},
   "source": [
    "We can see that both tenors are not equal. "
   ]
  },
  {
   "cell_type": "markdown",
   "id": "a79b8a32-bba6-42b0-b02a-5c98e8358a9c",
   "metadata": {},
   "source": [
    "Okay, you might wonder what is the use of pseudorandom numbers. We actually use this concept when we are splitting our dataset into traning and validation dataset, but also this split should be consistent for every epoch we train our model for. That's where we use `seed` to define the randomness."
   ]
  },
  {
   "cell_type": "markdown",
   "id": "9b5b9d66-d5fb-4a77-8daf-c832ffe19018",
   "metadata": {},
   "source": [
    "Okay now let's explore how to shuffle the data,"
   ]
  },
  {
   "cell_type": "code",
   "execution_count": 26,
   "id": "3ed4ca71-d436-418c-8990-69e026fb610b",
   "metadata": {},
   "outputs": [
    {
     "data": {
      "text/plain": [
       "<tf.Tensor: shape=(3, 2), dtype=int32, numpy=\n",
       "array([[10,  7],\n",
       "       [ 3,  5],\n",
       "       [ 2, 11]], dtype=int32)>"
      ]
     },
     "execution_count": 26,
     "metadata": {},
     "output_type": "execute_result"
    }
   ],
   "source": [
    "# Shuffle the tensor\n",
    "not_shuffled = tf.constant([[10, 7],\n",
    "                          [3, 5],\n",
    "                          [2, 11]])\n",
    "\n",
    "not_shuffled"
   ]
  },
  {
   "cell_type": "code",
   "execution_count": 30,
   "id": "1f1437e8-8ccb-45f5-8602-43a7d8780564",
   "metadata": {},
   "outputs": [
    {
     "data": {
      "text/plain": [
       "<tf.Tensor: shape=(3, 2), dtype=int32, numpy=\n",
       "array([[ 2, 11],\n",
       "       [10,  7],\n",
       "       [ 3,  5]], dtype=int32)>"
      ]
     },
     "execution_count": 30,
     "metadata": {},
     "output_type": "execute_result"
    }
   ],
   "source": [
    "# Get random shuffled every time\n",
    "tf.random.shuffle(not_shuffled)"
   ]
  },
  {
   "cell_type": "code",
   "execution_count": 34,
   "id": "4bfcc61f-839b-4f2e-8d70-f9539132efe5",
   "metadata": {},
   "outputs": [
    {
     "data": {
      "text/plain": [
       "<tf.Tensor: shape=(3, 2), dtype=int32, numpy=\n",
       "array([[10,  7],\n",
       "       [ 3,  5],\n",
       "       [ 2, 11]], dtype=int32)>"
      ]
     },
     "execution_count": 34,
     "metadata": {},
     "output_type": "execute_result"
    }
   ],
   "source": [
    "# Shuffle the array but then use seed to generate same shuffled array every time\n",
    "tf.random.shuffle(not_shuffled, seed=42)"
   ]
  },
  {
   "cell_type": "code",
   "execution_count": 46,
   "id": "1a48267f-8851-4246-ab47-142e2f13157d",
   "metadata": {},
   "outputs": [
    {
     "data": {
      "text/plain": [
       "<tf.Tensor: shape=(3, 2), dtype=int32, numpy=\n",
       "array([[10,  7],\n",
       "       [ 3,  5],\n",
       "       [ 2, 11]], dtype=int32)>"
      ]
     },
     "execution_count": 46,
     "metadata": {},
     "output_type": "execute_result"
    }
   ],
   "source": [
    "# Shuffle in same order every time\n",
    "\n",
    "# set global random seed \n",
    "tf.random.set_seed(42)\n",
    "\n",
    "# set operation under random seed\n",
    "tf.random.shuffle(not_shuffled, seed=42)"
   ]
  },
  {
   "cell_type": "markdown",
   "id": "39fdceaf-b41e-4d6a-a736-55779ecd8ef0",
   "metadata": {},
   "source": [
    "According to documentation:\n",
    "\n",
    "\"4. If both the global and the operation seed are set: Both seeds are used in conjunction to determine the random sequence.\""
   ]
  },
  {
   "cell_type": "code",
   "execution_count": 48,
   "id": "e3b7748b-74a9-49f2-b5af-109d039523fb",
   "metadata": {},
   "outputs": [
    {
     "data": {
      "text/plain": [
       "<tf.Tensor: shape=(3, 2), dtype=int32, numpy=\n",
       "array([[ 3,  5],\n",
       "       [ 2, 11],\n",
       "       [10,  7]], dtype=int32)>"
      ]
     },
     "execution_count": 48,
     "metadata": {},
     "output_type": "execute_result"
    }
   ],
   "source": [
    "tf.random.set_seed(42)\n",
    "\n",
    "tf.random.shuffle(not_shuffled)"
   ]
  },
  {
   "cell_type": "markdown",
   "id": "03c33ea2-be21-4004-bb84-d6284ac5853f",
   "metadata": {},
   "source": [
    "### Other ways to make tensor"
   ]
  },
  {
   "cell_type": "code",
   "execution_count": 53,
   "id": "9c652bce-9b8e-43a2-a66b-34ea1ff751b6",
   "metadata": {},
   "outputs": [
    {
     "data": {
      "text/plain": [
       "<tf.Tensor: shape=(3, 2, 3), dtype=float32, numpy=\n",
       "array([[[1., 1., 1.],\n",
       "        [1., 1., 1.]],\n",
       "\n",
       "       [[1., 1., 1.],\n",
       "        [1., 1., 1.]],\n",
       "\n",
       "       [[1., 1., 1.],\n",
       "        [1., 1., 1.]]], dtype=float32)>"
      ]
     },
     "execution_count": 53,
     "metadata": {},
     "output_type": "execute_result"
    }
   ],
   "source": [
    "tf.ones(shape=(3,2,3))"
   ]
  },
  {
   "cell_type": "code",
   "execution_count": 54,
   "id": "aa6c0e3f-c8f8-4af8-8edf-e0f20dbc358a",
   "metadata": {},
   "outputs": [
    {
     "data": {
      "text/plain": [
       "<tf.Tensor: shape=(4, 3, 2), dtype=float32, numpy=\n",
       "array([[[0., 0.],\n",
       "        [0., 0.],\n",
       "        [0., 0.]],\n",
       "\n",
       "       [[0., 0.],\n",
       "        [0., 0.],\n",
       "        [0., 0.]],\n",
       "\n",
       "       [[0., 0.],\n",
       "        [0., 0.],\n",
       "        [0., 0.]],\n",
       "\n",
       "       [[0., 0.],\n",
       "        [0., 0.],\n",
       "        [0., 0.]]], dtype=float32)>"
      ]
     },
     "execution_count": 54,
     "metadata": {},
     "output_type": "execute_result"
    }
   ],
   "source": [
    "tf.zeros(shape=(4,3,2))"
   ]
  },
  {
   "cell_type": "markdown",
   "id": "b70bcaa0-e531-48f1-aa78-955387edd1b9",
   "metadata": {},
   "source": [
    "Numpy to tensors"
   ]
  },
  {
   "cell_type": "code",
   "execution_count": 56,
   "id": "47f217ef-a138-4667-b9c0-fbfcf4384834",
   "metadata": {},
   "outputs": [
    {
     "data": {
      "text/plain": [
       "(24,)"
      ]
     },
     "execution_count": 56,
     "metadata": {},
     "output_type": "execute_result"
    }
   ],
   "source": [
    "import numpy as np\n",
    "A = np.arange(1, 25, dtype=np.int32)\n",
    "A.shape"
   ]
  },
  {
   "cell_type": "code",
   "execution_count": 57,
   "id": "5813b8cf-ce47-4dcf-b716-073f2cd54e9d",
   "metadata": {},
   "outputs": [
    {
     "data": {
      "text/plain": [
       "array([ 1,  2,  3,  4,  5,  6,  7,  8,  9, 10, 11, 12, 13, 14, 15, 16, 17,\n",
       "       18, 19, 20, 21, 22, 23, 24], dtype=int32)"
      ]
     },
     "execution_count": 57,
     "metadata": {},
     "output_type": "execute_result"
    }
   ],
   "source": [
    "A"
   ]
  },
  {
   "cell_type": "code",
   "execution_count": 60,
   "id": "bc0fddac-6914-40ea-bb76-2145ad4e879f",
   "metadata": {},
   "outputs": [
    {
     "data": {
      "text/plain": [
       "<tf.Tensor: shape=(4, 3, 2), dtype=int32, numpy=\n",
       "array([[[ 1,  2],\n",
       "        [ 3,  4],\n",
       "        [ 5,  6]],\n",
       "\n",
       "       [[ 7,  8],\n",
       "        [ 9, 10],\n",
       "        [11, 12]],\n",
       "\n",
       "       [[13, 14],\n",
       "        [15, 16],\n",
       "        [17, 18]],\n",
       "\n",
       "       [[19, 20],\n",
       "        [21, 22],\n",
       "        [23, 24]]], dtype=int32)>"
      ]
     },
     "execution_count": 60,
     "metadata": {},
     "output_type": "execute_result"
    }
   ],
   "source": [
    "tf_A = tf.constant(A, shape=(4, 3, 2))\n",
    "tf_A"
   ]
  },
  {
   "cell_type": "markdown",
   "id": "c346074d-fc39-4fa9-b94b-2e7034ef5c7a",
   "metadata": {},
   "source": [
    "### Getting information from tensors"
   ]
  },
  {
   "cell_type": "markdown",
   "id": "49d0292d-016b-490b-b4da-a12f91d120fc",
   "metadata": {},
   "source": [
    "There will be times when you'll want to get different pieces of information from your tensors, in particuluar, you should know the following tensor vocabulary:\n",
    "\n",
    "* Shape: The length (number of elements) of each of the dimensions of a tensor.\n",
    "* Rank: The number of tensor dimensions. A scalar has rank 0, a vector has rank 1, a matrix is rank 2, a tensor has rank n.\n",
    "* Axis or Dimension: A particular dimension of a tensor.\n",
    "* Size: The total number of items in the tensor."
   ]
  },
  {
   "cell_type": "code",
   "execution_count": 62,
   "id": "75217cd8-8725-42e7-a68d-926255e6cb97",
   "metadata": {},
   "outputs": [
    {
     "data": {
      "text/plain": [
       "<tf.Tensor: shape=(3, 2, 5, 3), dtype=float32, numpy=\n",
       "array([[[[0., 0., 0.],\n",
       "         [0., 0., 0.],\n",
       "         [0., 0., 0.],\n",
       "         [0., 0., 0.],\n",
       "         [0., 0., 0.]],\n",
       "\n",
       "        [[0., 0., 0.],\n",
       "         [0., 0., 0.],\n",
       "         [0., 0., 0.],\n",
       "         [0., 0., 0.],\n",
       "         [0., 0., 0.]]],\n",
       "\n",
       "\n",
       "       [[[0., 0., 0.],\n",
       "         [0., 0., 0.],\n",
       "         [0., 0., 0.],\n",
       "         [0., 0., 0.],\n",
       "         [0., 0., 0.]],\n",
       "\n",
       "        [[0., 0., 0.],\n",
       "         [0., 0., 0.],\n",
       "         [0., 0., 0.],\n",
       "         [0., 0., 0.],\n",
       "         [0., 0., 0.]]],\n",
       "\n",
       "\n",
       "       [[[0., 0., 0.],\n",
       "         [0., 0., 0.],\n",
       "         [0., 0., 0.],\n",
       "         [0., 0., 0.],\n",
       "         [0., 0., 0.]],\n",
       "\n",
       "        [[0., 0., 0.],\n",
       "         [0., 0., 0.],\n",
       "         [0., 0., 0.],\n",
       "         [0., 0., 0.],\n",
       "         [0., 0., 0.]]]], dtype=float32)>"
      ]
     },
     "execution_count": 62,
     "metadata": {},
     "output_type": "execute_result"
    }
   ],
   "source": [
    "tf_4_tensor = tf.zeros(shape=(3, 2, 5, 3))\n",
    "tf_4_tensor"
   ]
  },
  {
   "cell_type": "code",
   "execution_count": 63,
   "id": "d73b2dc4-a406-4756-a8c4-01d628d80560",
   "metadata": {},
   "outputs": [
    {
     "data": {
      "text/plain": [
       "(TensorShape([3, 2, 5, 3]), 4, <tf.Tensor: shape=(), dtype=int32, numpy=90>)"
      ]
     },
     "execution_count": 63,
     "metadata": {},
     "output_type": "execute_result"
    }
   ],
   "source": [
    "tf_4_tensor.shape, tf_4_tensor.ndim, tf.size(tf_4_tensor)"
   ]
  },
  {
   "cell_type": "code",
   "execution_count": 65,
   "id": "fb9fb654-b29c-4074-a08d-d3a22d45df51",
   "metadata": {},
   "outputs": [
    {
     "name": "stdout",
     "output_type": "stream",
     "text": [
      "Datatype of every element:  <dtype: 'float32'>\n",
      "Number of dimensions:  4\n",
      "Shape:  (3, 2, 5, 3)\n",
      "Elements along 0 axis:  (2, 5, 3)\n",
      "Elements along last axis:  (2, 5, 3)\n",
      "Total number of elements:  90\n"
     ]
    }
   ],
   "source": [
    "# Get attributes of tensors\n",
    "print(\"Datatype of every element: \", tf_4_tensor.dtype)\n",
    "print(\"Number of dimensions: \",tf_4_tensor.ndim)\n",
    "print(\"Shape: \", tf_4_tensor.shape)\n",
    "print(\"Elements along 0 axis: \",tf_4_tensor[0].shape)\n",
    "print(\"Elements along last axis: \",tf_4_tensor[-1].shape)\n",
    "print(\"Total number of elements: \", tf.size(tf_4_tensor).numpy())"
   ]
  },
  {
   "cell_type": "code",
   "execution_count": null,
   "id": "d4b67f19-2d16-4f28-85d6-ffb725a80649",
   "metadata": {},
   "outputs": [],
   "source": []
  },
  {
   "cell_type": "code",
   "execution_count": null,
   "id": "976a1378-7548-4931-a27d-58fa5d14d044",
   "metadata": {},
   "outputs": [],
   "source": []
  },
  {
   "cell_type": "code",
   "execution_count": null,
   "id": "f0721ed8-09c3-44ca-a237-ab05e6c32963",
   "metadata": {},
   "outputs": [],
   "source": []
  },
  {
   "cell_type": "code",
   "execution_count": null,
   "id": "6feb5b19-a5fc-480a-a374-5be77ba17703",
   "metadata": {},
   "outputs": [],
   "source": []
  },
  {
   "cell_type": "code",
   "execution_count": null,
   "id": "159a43fc-6900-499a-bf98-f4e58d3b7fbe",
   "metadata": {},
   "outputs": [],
   "source": []
  },
  {
   "cell_type": "code",
   "execution_count": null,
   "id": "d12d3545-4a7d-4d83-9b7f-e7947455f46a",
   "metadata": {},
   "outputs": [],
   "source": []
  },
  {
   "cell_type": "code",
   "execution_count": null,
   "id": "5de7738c-8b3b-48b7-8d87-07699e450b95",
   "metadata": {},
   "outputs": [],
   "source": []
  },
  {
   "cell_type": "code",
   "execution_count": null,
   "id": "236b7d19-004a-4b06-9368-29270133a4f3",
   "metadata": {},
   "outputs": [],
   "source": []
  },
  {
   "cell_type": "code",
   "execution_count": null,
   "id": "1a7d629d-dfc0-4a1e-bf13-1e717a3a6217",
   "metadata": {},
   "outputs": [],
   "source": []
  },
  {
   "cell_type": "code",
   "execution_count": null,
   "id": "338389e3-fdef-4dbd-99b1-4be8d9824c00",
   "metadata": {},
   "outputs": [],
   "source": []
  },
  {
   "cell_type": "code",
   "execution_count": null,
   "id": "934519c5-fb5c-491e-999d-1c3cba4e5a47",
   "metadata": {},
   "outputs": [],
   "source": []
  },
  {
   "cell_type": "code",
   "execution_count": null,
   "id": "45140f54-54ba-494c-9940-81c300ac85c2",
   "metadata": {},
   "outputs": [],
   "source": []
  },
  {
   "cell_type": "code",
   "execution_count": null,
   "id": "522ce402-d423-4427-af53-07e42d672c07",
   "metadata": {},
   "outputs": [],
   "source": []
  },
  {
   "cell_type": "code",
   "execution_count": null,
   "id": "a39eb5d0-430f-4519-a9a2-96e892d84a17",
   "metadata": {},
   "outputs": [],
   "source": []
  },
  {
   "cell_type": "code",
   "execution_count": null,
   "id": "e29b9ed3-1fb0-4928-bc69-bf69793b746d",
   "metadata": {},
   "outputs": [],
   "source": []
  },
  {
   "cell_type": "code",
   "execution_count": null,
   "id": "55c41f4e-aeab-440e-9aff-57c479b2a2d3",
   "metadata": {},
   "outputs": [],
   "source": []
  },
  {
   "cell_type": "code",
   "execution_count": null,
   "id": "a2b5d460-be51-4664-ae18-42b8875fbbd4",
   "metadata": {},
   "outputs": [],
   "source": []
  },
  {
   "cell_type": "code",
   "execution_count": null,
   "id": "dc3df375-75fb-4ae8-876d-fff210810851",
   "metadata": {},
   "outputs": [],
   "source": []
  },
  {
   "cell_type": "code",
   "execution_count": null,
   "id": "db8ec23d-894c-45ce-bbc5-6e43f745d4ee",
   "metadata": {},
   "outputs": [],
   "source": []
  },
  {
   "cell_type": "code",
   "execution_count": null,
   "id": "71b6f640-725f-441e-a02f-cfb3323a1f36",
   "metadata": {},
   "outputs": [],
   "source": []
  },
  {
   "cell_type": "code",
   "execution_count": null,
   "id": "28ee19e9-a3aa-43a4-9aeb-9e3f44b7d042",
   "metadata": {},
   "outputs": [],
   "source": []
  },
  {
   "cell_type": "code",
   "execution_count": null,
   "id": "2e64f507-cc90-41ad-920e-79dd5b2d080b",
   "metadata": {},
   "outputs": [],
   "source": []
  },
  {
   "cell_type": "code",
   "execution_count": null,
   "id": "cf11fe6f-0640-4747-bc68-ac37640e24d3",
   "metadata": {},
   "outputs": [],
   "source": []
  },
  {
   "cell_type": "code",
   "execution_count": null,
   "id": "089b5709-31d5-472d-af16-1f8a74b3373d",
   "metadata": {},
   "outputs": [],
   "source": [
    "\n"
   ]
  },
  {
   "cell_type": "code",
   "execution_count": null,
   "id": "3bbce428-7739-442f-8fdd-5d017bd4d644",
   "metadata": {},
   "outputs": [],
   "source": []
  },
  {
   "cell_type": "code",
   "execution_count": null,
   "id": "5e2706c9-55e1-4579-8151-ecab5b206a14",
   "metadata": {},
   "outputs": [],
   "source": []
  },
  {
   "cell_type": "code",
   "execution_count": null,
   "id": "ed6c8e17-1361-4f0b-98b4-2712eb92d981",
   "metadata": {},
   "outputs": [],
   "source": []
  },
  {
   "cell_type": "code",
   "execution_count": null,
   "id": "267e4ea7-0822-4445-8652-03144bbff3c9",
   "metadata": {},
   "outputs": [],
   "source": []
  },
  {
   "cell_type": "code",
   "execution_count": null,
   "id": "582ea4df-82bb-4cfe-8390-351d03adfcc7",
   "metadata": {},
   "outputs": [],
   "source": []
  },
  {
   "cell_type": "code",
   "execution_count": null,
   "id": "89a2f9d0-6962-4a2c-af53-1ef7be611968",
   "metadata": {},
   "outputs": [],
   "source": []
  },
  {
   "cell_type": "code",
   "execution_count": null,
   "id": "1bfe2f58-3514-4c40-87c8-e003d9117327",
   "metadata": {},
   "outputs": [],
   "source": []
  },
  {
   "cell_type": "code",
   "execution_count": null,
   "id": "2d1e6992-f20d-47db-b129-99e2bbe3fe79",
   "metadata": {},
   "outputs": [],
   "source": []
  },
  {
   "cell_type": "code",
   "execution_count": null,
   "id": "9a2c4cd8-c342-4b69-add7-f113144506dc",
   "metadata": {},
   "outputs": [],
   "source": []
  },
  {
   "cell_type": "code",
   "execution_count": null,
   "id": "413b1ae5-31b0-4483-b81d-ac09aee977d2",
   "metadata": {},
   "outputs": [],
   "source": []
  },
  {
   "cell_type": "code",
   "execution_count": null,
   "id": "3398ded4-24f7-4990-92ea-706a54f4dc9e",
   "metadata": {},
   "outputs": [],
   "source": []
  },
  {
   "cell_type": "code",
   "execution_count": null,
   "id": "9931e4b9-0b16-45a9-971c-eeba335e5eb7",
   "metadata": {},
   "outputs": [],
   "source": []
  },
  {
   "cell_type": "code",
   "execution_count": null,
   "id": "c353f6bc-1971-48b4-b52c-5a1ef2d955ea",
   "metadata": {},
   "outputs": [],
   "source": []
  },
  {
   "cell_type": "code",
   "execution_count": null,
   "id": "be6880e5-580b-4687-8418-b87c42b9d520",
   "metadata": {},
   "outputs": [],
   "source": []
  },
  {
   "cell_type": "code",
   "execution_count": null,
   "id": "6f669722-419b-4818-9e6b-7d975cf63568",
   "metadata": {},
   "outputs": [],
   "source": []
  },
  {
   "cell_type": "code",
   "execution_count": null,
   "id": "e486a1be-dd8c-4467-9ae0-5cbdecd41d3f",
   "metadata": {},
   "outputs": [],
   "source": []
  },
  {
   "cell_type": "code",
   "execution_count": null,
   "id": "f57b5842-d703-41c2-8b2b-f60f6fcdfc94",
   "metadata": {},
   "outputs": [],
   "source": []
  },
  {
   "cell_type": "code",
   "execution_count": null,
   "id": "e43032ea-c84e-4578-902a-54dd3c245e24",
   "metadata": {},
   "outputs": [],
   "source": []
  },
  {
   "cell_type": "code",
   "execution_count": null,
   "id": "d3f17678-066b-4332-b7f0-00cf24760ea5",
   "metadata": {},
   "outputs": [],
   "source": []
  },
  {
   "cell_type": "code",
   "execution_count": null,
   "id": "b31d55f6-b877-41db-bf0f-5f73b9b95bd1",
   "metadata": {},
   "outputs": [],
   "source": []
  },
  {
   "cell_type": "code",
   "execution_count": null,
   "id": "3063a054-21ea-4520-88c2-d3f30b6986be",
   "metadata": {},
   "outputs": [],
   "source": []
  },
  {
   "cell_type": "code",
   "execution_count": null,
   "id": "d5856cdf-cb97-4fcc-92fa-a74211dee741",
   "metadata": {},
   "outputs": [],
   "source": []
  },
  {
   "cell_type": "code",
   "execution_count": null,
   "id": "b18436bb-3dc2-45bc-b6af-f926e28f1a66",
   "metadata": {},
   "outputs": [],
   "source": []
  }
 ],
 "metadata": {
  "kernelspec": {
   "display_name": "default:Python",
   "language": "python",
   "name": "conda-env-default-py"
  },
  "language_info": {
   "codemirror_mode": {
    "name": "ipython",
    "version": 3
   },
   "file_extension": ".py",
   "mimetype": "text/x-python",
   "name": "python",
   "nbconvert_exporter": "python",
   "pygments_lexer": "ipython3",
   "version": "3.9.7"
  }
 },
 "nbformat": 4,
 "nbformat_minor": 5
}
