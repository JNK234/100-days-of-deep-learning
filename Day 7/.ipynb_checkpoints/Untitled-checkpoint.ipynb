{
 "cells": [
  {
   "cell_type": "code",
   "execution_count": 1,
   "id": "7c0974b2-f2ee-4fcc-be0a-5d6176d53858",
   "metadata": {},
   "outputs": [],
   "source": [
    "!pip install fastai --upgrade --q"
   ]
  },
  {
   "cell_type": "markdown",
   "id": "84f7393e-9147-4a00-8f74-746c317b69a4",
   "metadata": {},
   "source": [
    "# NLP Deep Dive"
   ]
  },
  {
   "cell_type": "markdown",
   "id": "fad2634c-8378-4c91-bee2-59fba5c3a1e7",
   "metadata": {},
   "source": [
    "**Language Model** is a model that has been trained to guess the next word in a text (having read the ones before). This type of task is called self-supervised learning: we do not need labels to our model, just feed it lots and lots of text"
   ]
  },
  {
   "cell_type": "markdown",
   "id": "ee61c71b-fc16-471b-8be1-3849b7d9ce86",
   "metadata": {},
   "source": [
    "Self-Supervised learning is used for pretraining a model used for transfer learning"
   ]
  },
  {
   "cell_type": "markdown",
   "id": "af22a032-8517-4179-b06b-d8828dd4962d",
   "metadata": {},
   "source": [
    "**Self Supervised Learining** : Training a model using labels that are embedded in the independent variable, rather than requiring external labels. For instance, training a model to predict the next word in a text."
   ]
  },
  {
   "cell_type": "markdown",
   "id": "cd7b2b62-1216-43da-9eaa-de141a8583a3",
   "metadata": {},
   "source": [
    "## Universal Language Model Fine-tuning (ULMFiT) approach"
   ]
  },
  {
   "cell_type": "markdown",
   "id": "e1303a92-6726-4956-864d-fe5905e3bcfd",
   "metadata": {},
   "source": [
    "The approch of fine-tuning a language model with the entire dataset corpus and then using the fine-tuned language model for the required task i.e. text classificatio etc"
   ]
  },
  {
   "cell_type": "markdown",
   "id": "2a056b82-663c-4e40-acb1-ead377eb3880",
   "metadata": {},
   "source": [
    "Before getting started with neural networks, let's explore how to approach the problem."
   ]
  },
  {
   "cell_type": "markdown",
   "id": "b78b7f8b-aa66-49c3-8247-f720e84e90b7",
   "metadata": {},
   "source": [
    "## Text Preprocessing"
   ]
  },
  {
   "cell_type": "code",
   "execution_count": 2,
   "id": "61b86310-5180-445e-8257-93e99500e726",
   "metadata": {},
   "outputs": [],
   "source": [
    "from fastai.text.all import *"
   ]
  },
  {
   "cell_type": "code",
   "execution_count": 3,
   "id": "0f9f9a8f-15e7-4422-ba02-42d1f93eb5f9",
   "metadata": {},
   "outputs": [],
   "source": [
    "path = untar_data(URLs.IMDB)"
   ]
  },
  {
   "cell_type": "code",
   "execution_count": 4,
   "id": "a50ff32a-79fd-4b52-b9a6-a91d1f073959",
   "metadata": {},
   "outputs": [
    {
     "data": {
      "text/plain": [
       "(#7) [Path('/home/studio-lab-user/.fastai/data/imdb/test'),Path('/home/studio-lab-user/.fastai/data/imdb/tmp_clas'),Path('/home/studio-lab-user/.fastai/data/imdb/README'),Path('/home/studio-lab-user/.fastai/data/imdb/unsup'),Path('/home/studio-lab-user/.fastai/data/imdb/train'),Path('/home/studio-lab-user/.fastai/data/imdb/tmp_lm'),Path('/home/studio-lab-user/.fastai/data/imdb/imdb.vocab')]"
      ]
     },
     "execution_count": 4,
     "metadata": {},
     "output_type": "execute_result"
    }
   ],
   "source": [
    "path.ls()"
   ]
  },
  {
   "cell_type": "code",
   "execution_count": 5,
   "id": "5ac1acca-f310-4dcf-87ec-67ef5c3af693",
   "metadata": {},
   "outputs": [],
   "source": [
    "files = get_text_files(path, folders=['test', 'train', 'unsup'])"
   ]
  },
  {
   "cell_type": "markdown",
   "id": "02f7a05c-d740-4b4c-ae6c-9a283a04fa6d",
   "metadata": {},
   "source": [
    "## Tokenization"
   ]
  },
  {
   "cell_type": "markdown",
   "id": "b61e6b0d-6de4-49d8-8c40-412abd0ed9e5",
   "metadata": {},
   "source": [
    "### Word Tokenization"
   ]
  },
  {
   "cell_type": "code",
   "execution_count": 6,
   "id": "dc7a3e9e-ac0f-4097-9cbd-37e4c6a21006",
   "metadata": {},
   "outputs": [
    {
     "data": {
      "text/plain": [
       "\"I didn't know what to expect when I started watching this movie, by the end\""
      ]
     },
     "execution_count": 6,
     "metadata": {},
     "output_type": "execute_result"
    }
   ],
   "source": [
    "txt = files[0].open().read()\n",
    "txt[:75]"
   ]
  },
  {
   "cell_type": "code",
   "execution_count": 7,
   "id": "e681231a-fed9-4741-ba91-df9921344a1f",
   "metadata": {},
   "outputs": [
    {
     "name": "stdout",
     "output_type": "stream",
     "text": [
      "(#212) ['I','did',\"n't\",'know','what','to','expect','when','I','started','watching','this','movie',',','by','the','end','of','it','I','was','pulling','my','hairs','out','.','This','was','one','of'...]\n"
     ]
    }
   ],
   "source": [
    "spacy = WordTokenizer()\n",
    "toks = first(spacy([txt]))\n",
    "print(coll_repr(toks, 30))"
   ]
  },
  {
   "cell_type": "code",
   "execution_count": 8,
   "id": "80cdcd1d-d97e-4798-8736-5faddbc185eb",
   "metadata": {},
   "outputs": [
    {
     "name": "stdout",
     "output_type": "stream",
     "text": [
      "(#231) ['xxbos','i','did',\"n't\",'know','what','to','expect','when','i','started','watching','this','movie',',','by','the','end','of','it','i','was','pulling','my','hairs','out','.','xxmaj','this','was','one'...]\n"
     ]
    }
   ],
   "source": [
    "tkn = Tokenizer(spacy)\n",
    "print(coll_repr(tkn(txt), 31))"
   ]
  },
  {
   "cell_type": "markdown",
   "id": "17e3b5a0-2e46-4056-acf8-67f32528d935",
   "metadata": {},
   "source": [
    "### Subword tokenization"
   ]
  },
  {
   "cell_type": "code",
   "execution_count": null,
   "id": "9e271c85-744b-4a55-bd13-d00b529a35f1",
   "metadata": {},
   "outputs": [],
   "source": []
  },
  {
   "cell_type": "code",
   "execution_count": null,
   "id": "bba811cf-9d3e-4482-ac08-582b3a0ea26c",
   "metadata": {},
   "outputs": [],
   "source": []
  },
  {
   "cell_type": "code",
   "execution_count": null,
   "id": "1b297647-0e26-48fa-97f9-68d33e5febc3",
   "metadata": {},
   "outputs": [],
   "source": []
  },
  {
   "cell_type": "code",
   "execution_count": null,
   "id": "456c806c-a8af-451a-93c8-06c3b0144a3a",
   "metadata": {},
   "outputs": [],
   "source": []
  },
  {
   "cell_type": "code",
   "execution_count": null,
   "id": "c5334919-c4c6-4464-89fd-05747e49977a",
   "metadata": {},
   "outputs": [],
   "source": []
  },
  {
   "cell_type": "code",
   "execution_count": null,
   "id": "1011f72b-a4f1-4ea6-943c-ddfb2856d313",
   "metadata": {},
   "outputs": [],
   "source": []
  },
  {
   "cell_type": "code",
   "execution_count": null,
   "id": "9b5f8852-2e8d-41b7-bd57-b88d88bdfea3",
   "metadata": {},
   "outputs": [],
   "source": []
  }
 ],
 "metadata": {
  "kernelspec": {
   "display_name": "default:Python",
   "language": "python",
   "name": "conda-env-default-py"
  },
  "language_info": {
   "codemirror_mode": {
    "name": "ipython",
    "version": 3
   },
   "file_extension": ".py",
   "mimetype": "text/x-python",
   "name": "python",
   "nbconvert_exporter": "python",
   "pygments_lexer": "ipython3",
   "version": "3.9.7"
  }
 },
 "nbformat": 4,
 "nbformat_minor": 5
}
